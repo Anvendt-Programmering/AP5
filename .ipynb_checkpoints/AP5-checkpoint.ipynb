{
 "cells": [
  {
   "cell_type": "markdown",
   "id": "00c87def-2928-4238-9765-a947db621e58",
   "metadata": {},
   "source": [
    "# Anvendt Programmering 5\n",
    "## Basics of machine learning"
   ]
  }
 ],
 "metadata": {
  "kernelspec": {
   "display_name": "Python 3 (ipykernel)",
   "language": "python",
   "name": "python3"
  },
  "language_info": {
   "codemirror_mode": {
    "name": "ipython",
    "version": 3
   },
   "file_extension": ".py",
   "mimetype": "text/x-python",
   "name": "python",
   "nbconvert_exporter": "python",
   "pygments_lexer": "ipython3",
   "version": "3.13.2"
  }
 },
 "nbformat": 4,
 "nbformat_minor": 5
}
